{
  "nbformat": 4,
  "nbformat_minor": 0,
  "metadata": {
    "kernelspec": {
      "display_name": "Python 3",
      "language": "python",
      "name": "python3"
    },
    "language_info": {
      "codemirror_mode": {
        "name": "ipython",
        "version": 3
      },
      "file_extension": ".py",
      "mimetype": "text/x-python",
      "name": "python",
      "nbconvert_exporter": "python",
      "pygments_lexer": "ipython3",
      "version": "3.7.3"
    },
    "colab": {
      "provenance": [],
      "include_colab_link": true
    }
  },
  "cells": [
    {
      "cell_type": "markdown",
      "metadata": {
        "id": "view-in-github",
        "colab_type": "text"
      },
      "source": [
        "<a href=\"https://colab.research.google.com/github/SaiSwarna/Weapon-Detetction-Classification-using-CNN/blob/main/Weapon_Detection_using_CNN.ipynb\" target=\"_parent\"><img src=\"https://colab.research.google.com/assets/colab-badge.svg\" alt=\"Open In Colab\"/></a>"
      ]
    },
    {
      "cell_type": "code",
      "metadata": {
        "id": "jktQPixVVq0R"
      },
      "source": [
        "a = []\n",
        "while(1):\n",
        "    a.append('1')"
      ],
      "execution_count": null,
      "outputs": []
    },
    {
      "cell_type": "code",
      "metadata": {
        "id": "__1pTkYc9i10"
      },
      "source": [
        "from keras.models import Sequential\n",
        "from keras.layers.core import Dense, Dropout, Activation, Flatten\n",
        "from keras.layers.convolutional import Convolution2D, MaxPooling2D , Conv2D\n",
        "from keras.utils import np_utils\n",
        "from keras.preprocessing.image import  img_to_array"
      ],
      "execution_count": null,
      "outputs": []
    },
    {
      "cell_type": "code",
      "metadata": {
        "id": "CeKnjZyJ9i18"
      },
      "source": [
        "import numpy as np\n",
        "import os\n",
        "import tensorflow as tf\n",
        "import cv2\n",
        "from PIL import Image\n",
        "from sklearn.model_selection import train_test_split"
      ],
      "execution_count": null,
      "outputs": []
    },
    {
      "cell_type": "code",
      "metadata": {
        "colab": {
          "base_uri": "https://localhost:8080/"
        },
        "id": "klAjrRQT7M_r",
        "outputId": "a1e28ada-4745-4f2e-c3ff-1218cb258499"
      },
      "source": [
        "%tensorflow_version 2.x\n",
        "import tensorflow as tf\n",
        "device_name = tf.test.gpu_device_name()\n",
        "if device_name != '/device:GPU:0':\n",
        "  raise SystemError('GPU device not found')\n",
        "print('Found GPU at: {}'.format(device_name))"
      ],
      "execution_count": null,
      "outputs": [
        {
          "output_type": "stream",
          "text": [
            "Found GPU at: /device:GPU:0\n"
          ],
          "name": "stdout"
        }
      ]
    },
    {
      "cell_type": "code",
      "metadata": {
        "id": "tbsWBg566zPV"
      },
      "source": [
        "from google.colab import drive\n",
        "drive.mount('/content/gdrive')"
      ],
      "execution_count": null,
      "outputs": []
    },
    {
      "cell_type": "code",
      "metadata": {
        "scrolled": true,
        "id": "Yl37_DRU9i2C"
      },
      "source": [
        "m,n = 240,240\n",
        "\n",
        "#path1='test\\\\'\n",
        "path2=\"/content/gdrive/MyDrive/train\"\n",
        "\n",
        "classes=os.listdir(path2)\n",
        "x=[]\n",
        "y=[]\n",
        "count = 0\n",
        "for fol in classes:\n",
        "    print (fol)\n",
        "    imgfiles=os.listdir(path2 + '//' + fol);\n",
        "    for img in imgfiles:\n",
        "        try:\n",
        "            im=Image.open(path2+'//'+fol+'//'+img);\n",
        "            im=im.convert(mode='RGB')\n",
        "            imrs=im.resize((m,n))\n",
        "            imrs=img_to_array(imrs)/255;\n",
        "            imrs=imrs.transpose(2,0,1);\n",
        "            imrs=imrs.reshape(3,m,n);\n",
        "            x.append(imrs)\n",
        "            y.append(count)\n",
        "        except:\n",
        "            pass\n",
        "    count += 1\n",
        "\n",
        "x=np.array(x);\n",
        "y=np.array(y);"
      ],
      "execution_count": null,
      "outputs": []
    },
    {
      "cell_type": "code",
      "metadata": {
        "id": "trssxE1I9i2M"
      },
      "source": [
        "nb_classes=len(classes)"
      ],
      "execution_count": null,
      "outputs": []
    },
    {
      "cell_type": "code",
      "metadata": {
        "id": "07hl3r5Z9i2Z"
      },
      "source": [
        "x_train, x_test, y_train, y_test= train_test_split(x,y,test_size=0.2,random_state=4)"
      ],
      "execution_count": null,
      "outputs": []
    },
    {
      "cell_type": "code",
      "metadata": {
        "id": "_vQxtYav9i2i"
      },
      "source": [
        "uniques, id_train=np.unique(y_train,return_inverse=True)\n",
        "Y_train=np_utils.to_categorical(id_train,nb_classes)\n",
        "uniques, id_test=np.unique(y_test,return_inverse=True)\n",
        "Y_test=np_utils.to_categorical(id_test,nb_classes)"
      ],
      "execution_count": null,
      "outputs": []
    },
    {
      "cell_type": "code",
      "metadata": {
        "id": "LX458JUp9i2u"
      },
      "source": [
        "model= Sequential()\n",
        "model.add(Conv2D(128,(3,3),input_shape=x_train.shape[1:]))\n",
        "model.add(Activation('relu'))\n",
        "model.add(Conv2D(64,(3,3),input_shape=(3,240,240), padding='same'))\n",
        "model.add(Activation('relu'))\n",
        "model.add(MaxPooling2D(pool_size=(2,2),padding='same'))\n",
        "model.add(Dropout(0.2));\n",
        "model.add(Conv2D(64,( 3, 3),input_shape=(3,240,240), padding='same'))\n",
        "model.add(Activation('relu'))\n",
        "model.add(Conv2D(32,( 3, 3),input_shape=(3,240,240), padding='same'))\n",
        "model.add(Activation('relu'))\n",
        "model.add(MaxPooling2D(pool_size=(2,2),padding='same'))\n",
        "model.add(Dropout(0.2));\n",
        "model.add(Conv2D(32,( 3, 3),input_shape=(3,240,240), padding='same'))\n",
        "model.add(Activation('relu'))\n",
        "model.add(MaxPooling2D(pool_size=(2,2),padding='same'))\n",
        "model.add(Dropout(0.2));\n",
        "model.add(Flatten());\n",
        "model.add(Dense(128));\n",
        "model.add(Activation('relu'));\n",
        "model.add(Dropout(0.2));\n",
        "model.add(Dense(nb_classes));\n",
        "model.add(Activation('softmax'));\n",
        "model.compile(loss='categorical_crossentropy',optimizer='sgd',metrics=['accuracy'])"
      ],
      "execution_count": null,
      "outputs": []
    },
    {
      "cell_type": "code",
      "metadata": {
        "id": "3CMarxv19i24"
      },
      "source": [
        "nb_epoch=60\n",
        "batch_size=32\n",
        "model.fit(x_train,Y_train,batch_size=batch_size,nb_epoch=nb_epoch,verbose=1,validation_data=(x_test, Y_test))"
      ],
      "execution_count": null,
      "outputs": []
    },
    {
      "cell_type": "code",
      "metadata": {
        "id": "SfKAhTeT9i3C"
      },
      "source": [
        "path1='C:\\\\Users\\\\sat_d\\\\Desktop\\\\Weapon Detection\\\\Weapons\\\\Test'\n",
        "print('Image Names')\n",
        "print('-------------------')\n",
        "x=[]\n",
        "m,n = 240,240\n",
        "files=os.listdir(path1);\n",
        "\n",
        "x=[]\n",
        "for i in files:\n",
        "    print (i)\n",
        "    im = Image.open(path1+ '\\\\'+ i);\n",
        "    imrs = im.resize((m,n))\n",
        "    display(imrs)\n",
        "    imrs=img_to_array(imrs)/255;\n",
        "    imrs=imrs.transpose(2,0,1);\n",
        "    imrs=imrs.reshape(3,m,n);\n",
        "    x.append(imrs)\n",
        "x=np.array(x);\n",
        "predictions = model.predict(x)\n",
        "print('-------------------')\n",
        "print('''Prediction Probability related to Weapon in the format\n",
        "[Grenade  Knives  Machine_Guns  Masked_Face  Pistol_Hand_Guns  RPG]''')\n",
        "print('-------------------')\n",
        "print (predictions)\n",
        "print (model.summary())"
      ],
      "execution_count": null,
      "outputs": []
    }
  ]
}